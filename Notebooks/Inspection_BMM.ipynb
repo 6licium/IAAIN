{
 "cells": [
  {
   "cell_type": "code",
   "execution_count": 3,
   "metadata": {},
   "outputs": [],
   "source": [
    "import pandas as pd\n",
    "import numpy as np"
   ]
  },
  {
   "cell_type": "code",
   "execution_count": 4,
   "metadata": {},
   "outputs": [],
   "source": [
    "df = pd.read_excel(\"../Donnees/BiomasseMoleculaireMicrobienne.xlsx\")"
   ]
  },
  {
   "cell_type": "code",
   "execution_count": 11,
   "metadata": {},
   "outputs": [
    {
     "data": {
      "text/html": [
       "<div>\n",
       "<style scoped>\n",
       "    .dataframe tbody tr th:only-of-type {\n",
       "        vertical-align: middle;\n",
       "    }\n",
       "\n",
       "    .dataframe tbody tr th {\n",
       "        vertical-align: top;\n",
       "    }\n",
       "\n",
       "    .dataframe thead th {\n",
       "        text-align: right;\n",
       "    }\n",
       "</style>\n",
       "<table border=\"1\" class=\"dataframe\">\n",
       "  <thead>\n",
       "    <tr style=\"text-align: right;\">\n",
       "      <th></th>\n",
       "      <th>ordre_extraction</th>\n",
       "      <th>ordre_BMM</th>\n",
       "      <th>Projet</th>\n",
       "      <th>code echantillon</th>\n",
       "      <th>BMM µg/g_sol_E1</th>\n",
       "      <th>BMM µg/g_sol_E2</th>\n",
       "      <th>Moy E1_E2</th>\n",
       "    </tr>\n",
       "  </thead>\n",
       "  <tbody>\n",
       "    <tr>\n",
       "      <th>0</th>\n",
       "      <td>30</td>\n",
       "      <td>1</td>\n",
       "      <td>ECOLE</td>\n",
       "      <td>CpUt_33Dic</td>\n",
       "      <td>20.410000</td>\n",
       "      <td>19.257809</td>\n",
       "      <td>19.833905</td>\n",
       "    </tr>\n",
       "    <tr>\n",
       "      <th>1</th>\n",
       "      <td>56</td>\n",
       "      <td>2</td>\n",
       "      <td>ECOLE</td>\n",
       "      <td>CpPl_05Vol</td>\n",
       "      <td>33.051145</td>\n",
       "      <td>28.920278</td>\n",
       "      <td>30.985711</td>\n",
       "    </tr>\n",
       "    <tr>\n",
       "      <th>2</th>\n",
       "      <td>2</td>\n",
       "      <td>3</td>\n",
       "      <td>ECOLE</td>\n",
       "      <td>CpUt_22Lou</td>\n",
       "      <td>38.160000</td>\n",
       "      <td>31.161426</td>\n",
       "      <td>34.660713</td>\n",
       "    </tr>\n",
       "    <tr>\n",
       "      <th>3</th>\n",
       "      <td>11</td>\n",
       "      <td>4</td>\n",
       "      <td>ECOLE</td>\n",
       "      <td>CpPl_16Gal</td>\n",
       "      <td>49.999488</td>\n",
       "      <td>48.579693</td>\n",
       "      <td>49.289590</td>\n",
       "    </tr>\n",
       "    <tr>\n",
       "      <th>4</th>\n",
       "      <td>49</td>\n",
       "      <td>5</td>\n",
       "      <td>ECOLE</td>\n",
       "      <td>CpPl_40Dic</td>\n",
       "      <td>28.495809</td>\n",
       "      <td>39.644486</td>\n",
       "      <td>34.070148</td>\n",
       "    </tr>\n",
       "    <tr>\n",
       "      <th>5</th>\n",
       "      <td>67</td>\n",
       "      <td>6</td>\n",
       "      <td>ECOLE</td>\n",
       "      <td>CpUt_14Lou</td>\n",
       "      <td>19.770000</td>\n",
       "      <td>18.828635</td>\n",
       "      <td>19.299318</td>\n",
       "    </tr>\n",
       "    <tr>\n",
       "      <th>6</th>\n",
       "      <td>33</td>\n",
       "      <td>7</td>\n",
       "      <td>ECOLE</td>\n",
       "      <td>CpPl_15Gal</td>\n",
       "      <td>47.461896</td>\n",
       "      <td>39.549873</td>\n",
       "      <td>43.505885</td>\n",
       "    </tr>\n",
       "    <tr>\n",
       "      <th>7</th>\n",
       "      <td>48</td>\n",
       "      <td>8</td>\n",
       "      <td>ECOLE</td>\n",
       "      <td>EspV_13Cab</td>\n",
       "      <td>22.229449</td>\n",
       "      <td>34.944410</td>\n",
       "      <td>28.586930</td>\n",
       "    </tr>\n",
       "    <tr>\n",
       "      <th>8</th>\n",
       "      <td>22</td>\n",
       "      <td>9</td>\n",
       "      <td>ECOLE</td>\n",
       "      <td>EvEx_04Mou</td>\n",
       "      <td>33.347146</td>\n",
       "      <td>47.105316</td>\n",
       "      <td>40.226231</td>\n",
       "    </tr>\n",
       "    <tr>\n",
       "      <th>9</th>\n",
       "      <td>64</td>\n",
       "      <td>10</td>\n",
       "      <td>ECOLE</td>\n",
       "      <td>EspV_18Dau</td>\n",
       "      <td>34.743846</td>\n",
       "      <td>24.651571</td>\n",
       "      <td>29.697709</td>\n",
       "    </tr>\n",
       "  </tbody>\n",
       "</table>\n",
       "</div>"
      ],
      "text/plain": [
       "   ordre_extraction  ordre_BMM Projet code echantillon  BMM µg/g_sol_E1  \\\n",
       "0                30          1  ECOLE       CpUt_33Dic        20.410000   \n",
       "1                56          2  ECOLE       CpPl_05Vol        33.051145   \n",
       "2                 2          3  ECOLE       CpUt_22Lou        38.160000   \n",
       "3                11          4  ECOLE       CpPl_16Gal        49.999488   \n",
       "4                49          5  ECOLE       CpPl_40Dic        28.495809   \n",
       "5                67          6  ECOLE       CpUt_14Lou        19.770000   \n",
       "6                33          7  ECOLE       CpPl_15Gal        47.461896   \n",
       "7                48          8  ECOLE       EspV_13Cab        22.229449   \n",
       "8                22          9  ECOLE       EvEx_04Mou        33.347146   \n",
       "9                64         10  ECOLE       EspV_18Dau        34.743846   \n",
       "\n",
       "   BMM µg/g_sol_E2  Moy E1_E2  \n",
       "0        19.257809  19.833905  \n",
       "1        28.920278  30.985711  \n",
       "2        31.161426  34.660713  \n",
       "3        48.579693  49.289590  \n",
       "4        39.644486  34.070148  \n",
       "5        18.828635  19.299318  \n",
       "6        39.549873  43.505885  \n",
       "7        34.944410  28.586930  \n",
       "8        47.105316  40.226231  \n",
       "9        24.651571  29.697709  "
      ]
     },
     "execution_count": 11,
     "metadata": {},
     "output_type": "execute_result"
    }
   ],
   "source": [
    "df.head(10)"
   ]
  },
  {
   "cell_type": "code",
   "execution_count": 5,
   "metadata": {},
   "outputs": [
    {
     "data": {
      "text/plain": [
       "ordre_extraction      int64\n",
       "ordre_BMM             int64\n",
       "Projet               object\n",
       "code echantillon     object\n",
       "BMM µg/g_sol_E1     float64\n",
       "BMM µg/g_sol_E2     float64\n",
       "Moy E1_E2           float64\n",
       "dtype: object"
      ]
     },
     "execution_count": 5,
     "metadata": {},
     "output_type": "execute_result"
    }
   ],
   "source": [
    "df.dtypes"
   ]
  },
  {
   "cell_type": "code",
   "execution_count": 7,
   "metadata": {},
   "outputs": [
    {
     "name": "stdout",
     "output_type": "stream",
     "text": [
      "Valeurs uniques par colonne :\n",
      "Colonne ordre_extraction : 80 valeurs uniques\n",
      "[30 56  2 11 49 67 33 48 22 64 45  9  3 65 47  5 63 24 71 35 40 37 34 66\n",
      " 12 77 58 44 46 73 55  4 75 18 72 15 79  8 28 21 78 53 13 14 57 52 32 41\n",
      " 36 42 27 26 68 62  7 29  1 38 25 54 31 39 61 51 50 43 60 20 16 76 80 74\n",
      " 10  6 59 70 19 17 69 23]\n",
      "Colonne ordre_BMM : 80 valeurs uniques\n",
      "[ 1  2  3  4  5  6  7  8  9 10 11 12 13 14 15 16 17 18 19 20 21 22 23 24\n",
      " 25 26 27 28 29 30 31 32 33 34 35 36 37 38 39 40 41 42 43 44 45 46 47 48\n",
      " 49 50 51 52 53 54 55 56 57 58 59 60 61 62 63 64 65 66 67 68 69 70 71 72\n",
      " 73 74 75 76 77 78 79 80]\n",
      "Colonne Projet : 1 valeurs uniques\n",
      "['ECOLE']\n",
      "Colonne code echantillon : 80 valeurs uniques\n",
      "['CpUt_33Dic' 'CpPl_05Vol' 'CpUt_22Lou' 'CpPl_16Gal' 'CpPl_40Dic'\n",
      " 'CpUt_14Lou' 'CpPl_15Gal' 'EspV_13Cab' 'EvEx_04Mou' 'EspV_18Dau'\n",
      " 'CpUt_17Rob' 'CpUt_09Mer' 'CpUt_05Bou' 'CpUt_11Ku' 'CpPl_17Lou'\n",
      " 'EvEx_11Sib' 'CpUt_35Aqu' 'CpUt_26Dau' 'CpUt_25Dau' 'CpPl_08Mer'\n",
      " 'CpPl_51EnsE' 'EspV_05Mar' 'CpUt_08VAl' 'CpPl_24Rob' 'CpUt_04Bau'\n",
      " 'CpUt_30Hei' 'EvEx_07Lou' 'EvEx_06Lou' 'EspV_08Rob' 'CpUt_18Rob'\n",
      " 'EvEx_02Kur' 'CpPl_10Mer' 'CpUt_27Sib' 'EvEx_05Mou' 'CpPl_03Bou'\n",
      " 'CpPl_49San' 'EvEx_31Hei' 'EspV_17Dau' 'CpPl_38Hei' 'EvEx_03Gal'\n",
      " 'CpUt_03Bou' 'CpUt_07Val' 'CpUt_10Mer' 'CpPl_23Lou' 'CpPl_14Kur'\n",
      " 'CpUt_06Val' 'CpPl_47Pri' 'CpPl_26Rob' 'EvEx_15Aqu' 'CpPl_39Dic' 'TE_1_1'\n",
      " 'CpPl_21Lou' 'CpPl_11Kur' 'CpUt_02Bou' 'CpUt_15Rob' 'EspV_12Cab'\n",
      " 'CpUt_37Pri' 'CpUt_39San' 'CpPl_04Vol' 'CpPl_50EnsE' 'CpPl_37Sib'\n",
      " 'CpPl_06Val' 'CpUt_12Lou' 'EvEx_10Sun' 'EspV_09Cas' 'EspV_11Cab'\n",
      " 'EspV_10Cas' 'CpPl_45Pri' 'CpUt_20Can' 'CpPl_09Mer' 'CpUt_22Cab'\n",
      " 'CpUt_42San' 'CpPl_01Bou' 'CpUt_32Dic' 'CpUt_40San' 'CpPl_48Pri'\n",
      " 'CpUt_28Sib' 'CpPl_02Bou' 'CpUt_01Bou' 'EsPv_07Lou']\n",
      "Colonne BMM µg/g_sol_E1 : 72 valeurs uniques\n",
      "[20.41       33.05114543 38.16       49.99948801 28.49580911 19.77\n",
      " 47.46189626 22.22944925 33.3471456  34.74384626 10.9        30.3613598\n",
      "  3.65764607 72.81063207 50.27911328 58.4577441  42.88225932  0.85\n",
      "  0.65       44.28070391 22.83606406 19.23926019 52.353566   22.8106654\n",
      " 20.34716017 63.19347159 19.53735213 31.53638943 31.08288314  0.\n",
      " 70.76852422 54.81569915 58.98128162 51.27387482 43.84174771 44.37172954\n",
      " 64.26747886 49.29126462 41.9892011  29.53805834 80.34739898 67.91242\n",
      " 60.77       42.12248964 52.23124978 31.95237982  3.36647805 29.40992909\n",
      "  0.36        2.55864841 40.31231877 25.25715692 46.47832541 57.85337765\n",
      " 51.26       67.33093686 40.03775124 21.59991575 28.71334091 45.72824847\n",
      " 19.47501744 40.95811546  3.71929964 15.53054803 37.81278097 13.55100892\n",
      " 22.37282984 33.76771272 65.64021665 32.95445677 25.55222602 29.18588109]\n",
      "Colonne BMM µg/g_sol_E2 : 79 valeurs uniques\n",
      "[19.25780921 28.92027754 31.16142587 48.57969254 39.64448598 18.82863547\n",
      " 39.54987311 34.94441009 47.10531617 24.6515715  12.42684218 35.93499988\n",
      "  2.76251248 58.41373332 51.95465858 55.43471023 33.38976083  1.7250194\n",
      "  2.21754151 47.83600109 22.82683274 21.86461076 51.53365415 27.64143651\n",
      " 14.73638429 56.8275521  17.34278698 23.79072976 20.1296862   0.\n",
      " 59.09029752 42.66375209 52.54558182 41.86923952 29.25628339 36.15357622\n",
      " 69.84401738 33.90490971 52.00316612 45.58147135 29.42852011 45.73507452\n",
      " 46.96110829 27.03745657 38.31102813 40.81665285 32.91777461 32.80523991\n",
      " 83.74632676 66.85759559 83.23       41.1176631  59.28262894 30.44597222\n",
      "  3.10786161 29.3620706   2.65363764 39.87271781 24.05025763 51.87570745\n",
      " 61.74375434 63.1        67.73279352 41.5063816  25.0664342  35.20038728\n",
      " 55.37646272 19.52506469 42.43183539  3.28122965 12.60826608 36.9815496\n",
      " 15.1328851  22.90367331 34.02576766 53.42381667 28.62424211 23.99327385\n",
      " 26.29452798]\n",
      "Colonne Moy E1_E2 : 80 valeurs uniques\n",
      "[19.8339046  30.98571148 34.66071294 49.28959027 34.07014754 19.29931774\n",
      " 43.50588469 28.58692967 40.22623089 29.69770888 11.66342109 33.14817984\n",
      "  3.21007927 65.6121827  51.11688593 56.94622716 38.13601008  1.2875097\n",
      "  1.43377076 46.0583525  22.8314484  20.55193548 51.94361007 25.22605095\n",
      " 17.54177223 60.01051184 18.44006955 27.66355959 25.60628467  0.\n",
      " 64.92941087 48.73972562 55.76343172 46.57155717 36.54901555 40.26265288\n",
      " 67.05574812 33.47802757 50.64721537 47.79047968 28.96216461 43.86213781\n",
      " 47.21150227 24.63345291 35.82908687 37.78024956 31.22791647 31.58329986\n",
      " 82.04686287 67.38500779 72.         41.62007637 55.75693936 31.19917602\n",
      "  3.23716983 29.38599984  0.18        2.60614303 40.09251829 24.65370728\n",
      " 49.17701643 59.798566   57.18       67.53186519 40.77206642 23.33317497\n",
      " 31.95686409 50.5523556  19.50004106 41.69497543  3.50026465 14.06940706\n",
      " 37.39716529 14.34194701 22.63825158 33.89674019 59.53201666 30.78934944\n",
      " 24.77274993 27.74020453]\n"
     ]
    }
   ],
   "source": [
    "print(\"Valeurs uniques par colonne :\")\n",
    "for column in df.columns:\n",
    "    uniques = df[column].unique()\n",
    "    print(f\"Colonne {column} : {len(uniques)} valeurs uniques\")\n",
    "    print(uniques)\n"
   ]
  },
  {
   "cell_type": "code",
   "execution_count": 11,
   "metadata": {},
   "outputs": [
    {
     "data": {
      "text/html": [
       "<div>\n",
       "<style scoped>\n",
       "    .dataframe tbody tr th:only-of-type {\n",
       "        vertical-align: middle;\n",
       "    }\n",
       "\n",
       "    .dataframe tbody tr th {\n",
       "        vertical-align: top;\n",
       "    }\n",
       "\n",
       "    .dataframe thead th {\n",
       "        text-align: right;\n",
       "    }\n",
       "</style>\n",
       "<table border=\"1\" class=\"dataframe\">\n",
       "  <thead>\n",
       "    <tr style=\"text-align: right;\">\n",
       "      <th></th>\n",
       "      <th>code echantillon</th>\n",
       "    </tr>\n",
       "  </thead>\n",
       "  <tbody>\n",
       "  </tbody>\n",
       "</table>\n",
       "</div>"
      ],
      "text/plain": [
       "Empty DataFrame\n",
       "Columns: [code echantillon]\n",
       "Index: []"
      ]
     },
     "execution_count": 11,
     "metadata": {},
     "output_type": "execute_result"
    }
   ],
   "source": [
    "col_name = df.columns[3]\n",
    "doublons = df[df.duplicated(subset=col_name, keep=False)]\n",
    "doublons_col_3 = doublons[[col_name]]\n",
    "doublons_col_3"
   ]
  },
  {
   "cell_type": "code",
   "execution_count": 13,
   "metadata": {},
   "outputs": [
    {
     "name": "stdout",
     "output_type": "stream",
     "text": [
      "La moyenne de la colonne 'BMM µg/g_sol_E1' est : 35.63358136942372\n"
     ]
    }
   ],
   "source": [
    "col_name = df.columns[4]\n",
    "moyenne_col_5 = df[col_name].mean()\n",
    "print(f\"La moyenne de la colonne '{col_name}' est : {moyenne_col_5}\")"
   ]
  },
  {
   "cell_type": "code",
   "execution_count": 14,
   "metadata": {},
   "outputs": [
    {
     "name": "stdout",
     "output_type": "stream",
     "text": [
      "La moyenne de la colonne 'BMM µg/g_sol_E2' est : 35.411411070799055\n"
     ]
    }
   ],
   "source": [
    "col_name = df.columns[5]\n",
    "moyenne_col_6 = df[col_name].mean()\n",
    "print(f\"La moyenne de la colonne '{col_name}' est : {moyenne_col_6}\")"
   ]
  },
  {
   "cell_type": "code",
   "execution_count": 15,
   "metadata": {},
   "outputs": [
    {
     "name": "stdout",
     "output_type": "stream",
     "text": [
      "La moyenne de la colonne 'Moy E1_E2' est : 35.52249622011139\n"
     ]
    }
   ],
   "source": [
    "col_name = df.columns[6]\n",
    "moyenne_col_7 = df[col_name].mean()\n",
    "print(f\"La moyenne de la colonne '{col_name}' est : {moyenne_col_7}\")"
   ]
  }
 ],
 "metadata": {
  "kernelspec": {
   "display_name": "Python 3",
   "language": "python",
   "name": "python3"
  },
  "language_info": {
   "codemirror_mode": {
    "name": "ipython",
    "version": 3
   },
   "file_extension": ".py",
   "mimetype": "text/x-python",
   "name": "python",
   "nbconvert_exporter": "python",
   "pygments_lexer": "ipython3",
   "version": "3.12.5"
  }
 },
 "nbformat": 4,
 "nbformat_minor": 2
}
